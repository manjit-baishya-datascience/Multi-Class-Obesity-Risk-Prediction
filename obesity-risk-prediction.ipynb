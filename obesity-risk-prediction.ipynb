{
 "cells": [
  {
   "cell_type": "code",
   "execution_count": 1,
   "id": "3e30061a",
   "metadata": {
    "_cell_guid": "b1076dfc-b9ad-4769-8c92-a6c4dae69d19",
    "_uuid": "8f2839f25d086af736a60e9eeb907d3b93b6e0e5",
    "execution": {
     "iopub.execute_input": "2024-04-04T12:02:23.000996Z",
     "iopub.status.busy": "2024-04-04T12:02:23.000435Z",
     "iopub.status.idle": "2024-04-04T12:02:27.827314Z",
     "shell.execute_reply": "2024-04-04T12:02:27.826177Z"
    },
    "papermill": {
     "duration": 4.841041,
     "end_time": "2024-04-04T12:02:27.830261",
     "exception": false,
     "start_time": "2024-04-04T12:02:22.989220",
     "status": "completed"
    },
    "tags": []
   },
   "outputs": [],
   "source": [
    "# dataframe handling\n",
    "import numpy as np\n",
    "import pandas as pd\n",
    "\n",
    "# warning handling\n",
    "import warnings\n",
    "\n",
    "# importing os library\n",
    "import os\n",
    "\n",
    "# visualizations\n",
    "import matplotlib.pyplot as plt\n",
    "import seaborn as sns\n",
    "\n",
    "# ML Models\n",
    "from sklearn.svm import SVC\n",
    "from sklearn.tree import DecisionTreeClassifier\n",
    "from sklearn.preprocessing import LabelEncoder\n",
    "from sklearn.model_selection import train_test_split, GridSearchCV\n",
    "from sklearn.preprocessing import StandardScaler\n",
    "from sklearn.ensemble import AdaBoostClassifier, RandomForestClassifier, GradientBoostingClassifier, BaggingClassifier,ExtraTreesClassifier\n",
    "from sklearn.naive_bayes import GaussianNB\n",
    "from sklearn.discriminant_analysis import QuadraticDiscriminantAnalysis, LinearDiscriminantAnalysis\n",
    "from sklearn.neighbors import KNeighborsClassifier\n",
    "from sklearn.linear_model import LogisticRegression, RidgeClassifier\n",
    "from catboost import CatBoostClassifier\n",
    "from lightgbm import LGBMClassifier\n",
    "import xgboost as xgb\n",
    "from sklearn.metrics import accuracy_score, classification_report"
   ]
  },
  {
   "cell_type": "code",
   "execution_count": 2,
   "id": "d3a2427c",
   "metadata": {
    "execution": {
     "iopub.execute_input": "2024-04-04T12:02:27.852074Z",
     "iopub.status.busy": "2024-04-04T12:02:27.850630Z",
     "iopub.status.idle": "2024-04-04T12:02:27.856182Z",
     "shell.execute_reply": "2024-04-04T12:02:27.855366Z"
    },
    "papermill": {
     "duration": 0.019281,
     "end_time": "2024-04-04T12:02:27.858352",
     "exception": false,
     "start_time": "2024-04-04T12:02:27.839071",
     "status": "completed"
    },
    "tags": []
   },
   "outputs": [],
   "source": [
    "# disabling warnings\n",
    "warnings.filterwarnings(\"ignore\", category=UserWarning)\n",
    "warnings.filterwarnings(\"ignore\", category=FutureWarning)"
   ]
  },
  {
   "cell_type": "code",
   "execution_count": 3,
   "id": "0b6697af",
   "metadata": {
    "execution": {
     "iopub.execute_input": "2024-04-04T12:02:27.877422Z",
     "iopub.status.busy": "2024-04-04T12:02:27.876748Z",
     "iopub.status.idle": "2024-04-04T12:02:27.890057Z",
     "shell.execute_reply": "2024-04-04T12:02:27.888967Z"
    },
    "papermill": {
     "duration": 0.025991,
     "end_time": "2024-04-04T12:02:27.892751",
     "exception": false,
     "start_time": "2024-04-04T12:02:27.866760",
     "status": "completed"
    },
    "tags": []
   },
   "outputs": [],
   "source": [
    "# getting CSV file location\n",
    "for dirname, _, filenames in os.walk('/kaggle/input'):\n",
    "    for filename in filenames:\n",
    "        src = os.path.join(dirname, filename)"
   ]
  },
  {
   "cell_type": "code",
   "execution_count": 4,
   "id": "9a98a661",
   "metadata": {
    "execution": {
     "iopub.execute_input": "2024-04-04T12:02:27.912651Z",
     "iopub.status.busy": "2024-04-04T12:02:27.911680Z",
     "iopub.status.idle": "2024-04-04T12:02:27.943631Z",
     "shell.execute_reply": "2024-04-04T12:02:27.942639Z"
    },
    "papermill": {
     "duration": 0.044998,
     "end_time": "2024-04-04T12:02:27.946339",
     "exception": false,
     "start_time": "2024-04-04T12:02:27.901341",
     "status": "completed"
    },
    "tags": []
   },
   "outputs": [],
   "source": [
    "# reading the source file\n",
    "df = pd.read_csv(src)"
   ]
  },
  {
   "cell_type": "code",
   "execution_count": 5,
   "id": "959fc77f",
   "metadata": {
    "execution": {
     "iopub.execute_input": "2024-04-04T12:02:27.966501Z",
     "iopub.status.busy": "2024-04-04T12:02:27.965696Z",
     "iopub.status.idle": "2024-04-04T12:02:27.997696Z",
     "shell.execute_reply": "2024-04-04T12:02:27.996510Z"
    },
    "papermill": {
     "duration": 0.045118,
     "end_time": "2024-04-04T12:02:28.000158",
     "exception": false,
     "start_time": "2024-04-04T12:02:27.955040",
     "status": "completed"
    },
    "tags": []
   },
   "outputs": [
    {
     "data": {
      "text/html": [
       "<div>\n",
       "<style scoped>\n",
       "    .dataframe tbody tr th:only-of-type {\n",
       "        vertical-align: middle;\n",
       "    }\n",
       "\n",
       "    .dataframe tbody tr th {\n",
       "        vertical-align: top;\n",
       "    }\n",
       "\n",
       "    .dataframe thead th {\n",
       "        text-align: right;\n",
       "    }\n",
       "</style>\n",
       "<table border=\"1\" class=\"dataframe\">\n",
       "  <thead>\n",
       "    <tr style=\"text-align: right;\">\n",
       "      <th></th>\n",
       "      <th>Gender</th>\n",
       "      <th>Age</th>\n",
       "      <th>Height</th>\n",
       "      <th>Weight</th>\n",
       "      <th>family_history_with_overweight</th>\n",
       "      <th>FAVC</th>\n",
       "      <th>FCVC</th>\n",
       "      <th>NCP</th>\n",
       "      <th>CAEC</th>\n",
       "      <th>SMOKE</th>\n",
       "      <th>CH2O</th>\n",
       "      <th>SCC</th>\n",
       "      <th>FAF</th>\n",
       "      <th>TUE</th>\n",
       "      <th>CALC</th>\n",
       "      <th>MTRANS</th>\n",
       "      <th>NObeyesdad</th>\n",
       "    </tr>\n",
       "  </thead>\n",
       "  <tbody>\n",
       "    <tr>\n",
       "      <th>0</th>\n",
       "      <td>Female</td>\n",
       "      <td>21.0</td>\n",
       "      <td>1.62</td>\n",
       "      <td>64.0</td>\n",
       "      <td>yes</td>\n",
       "      <td>no</td>\n",
       "      <td>2.0</td>\n",
       "      <td>3.0</td>\n",
       "      <td>Sometimes</td>\n",
       "      <td>no</td>\n",
       "      <td>2.0</td>\n",
       "      <td>no</td>\n",
       "      <td>0.0</td>\n",
       "      <td>1.0</td>\n",
       "      <td>no</td>\n",
       "      <td>Public_Transportation</td>\n",
       "      <td>Normal_Weight</td>\n",
       "    </tr>\n",
       "    <tr>\n",
       "      <th>1</th>\n",
       "      <td>Female</td>\n",
       "      <td>21.0</td>\n",
       "      <td>1.52</td>\n",
       "      <td>56.0</td>\n",
       "      <td>yes</td>\n",
       "      <td>no</td>\n",
       "      <td>3.0</td>\n",
       "      <td>3.0</td>\n",
       "      <td>Sometimes</td>\n",
       "      <td>yes</td>\n",
       "      <td>3.0</td>\n",
       "      <td>yes</td>\n",
       "      <td>3.0</td>\n",
       "      <td>0.0</td>\n",
       "      <td>Sometimes</td>\n",
       "      <td>Public_Transportation</td>\n",
       "      <td>Normal_Weight</td>\n",
       "    </tr>\n",
       "    <tr>\n",
       "      <th>2</th>\n",
       "      <td>Male</td>\n",
       "      <td>23.0</td>\n",
       "      <td>1.80</td>\n",
       "      <td>77.0</td>\n",
       "      <td>yes</td>\n",
       "      <td>no</td>\n",
       "      <td>2.0</td>\n",
       "      <td>3.0</td>\n",
       "      <td>Sometimes</td>\n",
       "      <td>no</td>\n",
       "      <td>2.0</td>\n",
       "      <td>no</td>\n",
       "      <td>2.0</td>\n",
       "      <td>1.0</td>\n",
       "      <td>Frequently</td>\n",
       "      <td>Public_Transportation</td>\n",
       "      <td>Normal_Weight</td>\n",
       "    </tr>\n",
       "    <tr>\n",
       "      <th>3</th>\n",
       "      <td>Male</td>\n",
       "      <td>27.0</td>\n",
       "      <td>1.80</td>\n",
       "      <td>87.0</td>\n",
       "      <td>no</td>\n",
       "      <td>no</td>\n",
       "      <td>3.0</td>\n",
       "      <td>3.0</td>\n",
       "      <td>Sometimes</td>\n",
       "      <td>no</td>\n",
       "      <td>2.0</td>\n",
       "      <td>no</td>\n",
       "      <td>2.0</td>\n",
       "      <td>0.0</td>\n",
       "      <td>Frequently</td>\n",
       "      <td>Walking</td>\n",
       "      <td>Overweight_Level_I</td>\n",
       "    </tr>\n",
       "    <tr>\n",
       "      <th>4</th>\n",
       "      <td>Male</td>\n",
       "      <td>22.0</td>\n",
       "      <td>1.78</td>\n",
       "      <td>89.8</td>\n",
       "      <td>no</td>\n",
       "      <td>no</td>\n",
       "      <td>2.0</td>\n",
       "      <td>1.0</td>\n",
       "      <td>Sometimes</td>\n",
       "      <td>no</td>\n",
       "      <td>2.0</td>\n",
       "      <td>no</td>\n",
       "      <td>0.0</td>\n",
       "      <td>0.0</td>\n",
       "      <td>Sometimes</td>\n",
       "      <td>Public_Transportation</td>\n",
       "      <td>Overweight_Level_II</td>\n",
       "    </tr>\n",
       "  </tbody>\n",
       "</table>\n",
       "</div>"
      ],
      "text/plain": [
       "   Gender   Age  Height  Weight family_history_with_overweight FAVC  FCVC  \\\n",
       "0  Female  21.0    1.62    64.0                            yes   no   2.0   \n",
       "1  Female  21.0    1.52    56.0                            yes   no   3.0   \n",
       "2    Male  23.0    1.80    77.0                            yes   no   2.0   \n",
       "3    Male  27.0    1.80    87.0                             no   no   3.0   \n",
       "4    Male  22.0    1.78    89.8                             no   no   2.0   \n",
       "\n",
       "   NCP       CAEC SMOKE  CH2O  SCC  FAF  TUE        CALC  \\\n",
       "0  3.0  Sometimes    no   2.0   no  0.0  1.0          no   \n",
       "1  3.0  Sometimes   yes   3.0  yes  3.0  0.0   Sometimes   \n",
       "2  3.0  Sometimes    no   2.0   no  2.0  1.0  Frequently   \n",
       "3  3.0  Sometimes    no   2.0   no  2.0  0.0  Frequently   \n",
       "4  1.0  Sometimes    no   2.0   no  0.0  0.0   Sometimes   \n",
       "\n",
       "                  MTRANS           NObeyesdad  \n",
       "0  Public_Transportation        Normal_Weight  \n",
       "1  Public_Transportation        Normal_Weight  \n",
       "2  Public_Transportation        Normal_Weight  \n",
       "3                Walking   Overweight_Level_I  \n",
       "4  Public_Transportation  Overweight_Level_II  "
      ]
     },
     "execution_count": 5,
     "metadata": {},
     "output_type": "execute_result"
    }
   ],
   "source": [
    "# viewing data\n",
    "df.head()"
   ]
  },
  {
   "cell_type": "code",
   "execution_count": 6,
   "id": "d9a94eea",
   "metadata": {
    "execution": {
     "iopub.execute_input": "2024-04-04T12:02:28.020659Z",
     "iopub.status.busy": "2024-04-04T12:02:28.020199Z",
     "iopub.status.idle": "2024-04-04T12:02:28.026772Z",
     "shell.execute_reply": "2024-04-04T12:02:28.025686Z"
    },
    "papermill": {
     "duration": 0.01975,
     "end_time": "2024-04-04T12:02:28.029067",
     "exception": false,
     "start_time": "2024-04-04T12:02:28.009317",
     "status": "completed"
    },
    "tags": []
   },
   "outputs": [
    {
     "data": {
      "text/plain": [
       "(2111, 17)"
      ]
     },
     "execution_count": 6,
     "metadata": {},
     "output_type": "execute_result"
    }
   ],
   "source": [
    "df.shape"
   ]
  },
  {
   "cell_type": "code",
   "execution_count": 7,
   "id": "4c0c424a",
   "metadata": {
    "execution": {
     "iopub.execute_input": "2024-04-04T12:02:28.049282Z",
     "iopub.status.busy": "2024-04-04T12:02:28.048822Z",
     "iopub.status.idle": "2024-04-04T12:02:28.054553Z",
     "shell.execute_reply": "2024-04-04T12:02:28.053317Z"
    },
    "papermill": {
     "duration": 0.018745,
     "end_time": "2024-04-04T12:02:28.056910",
     "exception": false,
     "start_time": "2024-04-04T12:02:28.038165",
     "status": "completed"
    },
    "tags": []
   },
   "outputs": [],
   "source": [
    "# renaming columns\n",
    "df.columns = ['Gender', 'Age', 'Height', 'Weight', 'FHO', 'FAVC', 'FCVC', 'NCP', 'CAEC', 'SMOKE', 'CH2O', 'SCC', 'FAF', 'TUE', 'CALC', 'MTRANS', 'Class']"
   ]
  },
  {
   "cell_type": "code",
   "execution_count": 8,
   "id": "2b1af588",
   "metadata": {
    "execution": {
     "iopub.execute_input": "2024-04-04T12:02:28.077629Z",
     "iopub.status.busy": "2024-04-04T12:02:28.076385Z",
     "iopub.status.idle": "2024-04-04T12:02:28.094367Z",
     "shell.execute_reply": "2024-04-04T12:02:28.093137Z"
    },
    "papermill": {
     "duration": 0.031262,
     "end_time": "2024-04-04T12:02:28.097253",
     "exception": false,
     "start_time": "2024-04-04T12:02:28.065991",
     "status": "completed"
    },
    "tags": []
   },
   "outputs": [],
   "source": [
    "# encoding labels\n",
    "columns = ['Gender', 'FHO', 'CAEC', 'SMOKE', 'SCC', 'CALC', 'MTRANS', 'Class']\n",
    "\n",
    "label_encoder = LabelEncoder()\n",
    "\n",
    "for column in df.columns:\n",
    "    if df[column].dtype == 'object':\n",
    "        df[column] = label_encoder.fit_transform(df[column])"
   ]
  },
  {
   "cell_type": "code",
   "execution_count": 9,
   "id": "c2c645df",
   "metadata": {
    "execution": {
     "iopub.execute_input": "2024-04-04T12:02:28.117766Z",
     "iopub.status.busy": "2024-04-04T12:02:28.117298Z",
     "iopub.status.idle": "2024-04-04T12:02:28.141659Z",
     "shell.execute_reply": "2024-04-04T12:02:28.140429Z"
    },
    "papermill": {
     "duration": 0.037753,
     "end_time": "2024-04-04T12:02:28.144283",
     "exception": false,
     "start_time": "2024-04-04T12:02:28.106530",
     "status": "completed"
    },
    "tags": []
   },
   "outputs": [
    {
     "data": {
      "text/html": [
       "<div>\n",
       "<style scoped>\n",
       "    .dataframe tbody tr th:only-of-type {\n",
       "        vertical-align: middle;\n",
       "    }\n",
       "\n",
       "    .dataframe tbody tr th {\n",
       "        vertical-align: top;\n",
       "    }\n",
       "\n",
       "    .dataframe thead th {\n",
       "        text-align: right;\n",
       "    }\n",
       "</style>\n",
       "<table border=\"1\" class=\"dataframe\">\n",
       "  <thead>\n",
       "    <tr style=\"text-align: right;\">\n",
       "      <th></th>\n",
       "      <th>Gender</th>\n",
       "      <th>Age</th>\n",
       "      <th>Height</th>\n",
       "      <th>Weight</th>\n",
       "      <th>FHO</th>\n",
       "      <th>FAVC</th>\n",
       "      <th>FCVC</th>\n",
       "      <th>NCP</th>\n",
       "      <th>CAEC</th>\n",
       "      <th>SMOKE</th>\n",
       "      <th>CH2O</th>\n",
       "      <th>SCC</th>\n",
       "      <th>FAF</th>\n",
       "      <th>TUE</th>\n",
       "      <th>CALC</th>\n",
       "      <th>MTRANS</th>\n",
       "      <th>Class</th>\n",
       "    </tr>\n",
       "  </thead>\n",
       "  <tbody>\n",
       "    <tr>\n",
       "      <th>0</th>\n",
       "      <td>0</td>\n",
       "      <td>21.0</td>\n",
       "      <td>1.62</td>\n",
       "      <td>64.0</td>\n",
       "      <td>1</td>\n",
       "      <td>0</td>\n",
       "      <td>2.0</td>\n",
       "      <td>3.0</td>\n",
       "      <td>2</td>\n",
       "      <td>0</td>\n",
       "      <td>2.0</td>\n",
       "      <td>0</td>\n",
       "      <td>0.0</td>\n",
       "      <td>1.0</td>\n",
       "      <td>3</td>\n",
       "      <td>3</td>\n",
       "      <td>1</td>\n",
       "    </tr>\n",
       "    <tr>\n",
       "      <th>1</th>\n",
       "      <td>0</td>\n",
       "      <td>21.0</td>\n",
       "      <td>1.52</td>\n",
       "      <td>56.0</td>\n",
       "      <td>1</td>\n",
       "      <td>0</td>\n",
       "      <td>3.0</td>\n",
       "      <td>3.0</td>\n",
       "      <td>2</td>\n",
       "      <td>1</td>\n",
       "      <td>3.0</td>\n",
       "      <td>1</td>\n",
       "      <td>3.0</td>\n",
       "      <td>0.0</td>\n",
       "      <td>2</td>\n",
       "      <td>3</td>\n",
       "      <td>1</td>\n",
       "    </tr>\n",
       "    <tr>\n",
       "      <th>2</th>\n",
       "      <td>1</td>\n",
       "      <td>23.0</td>\n",
       "      <td>1.80</td>\n",
       "      <td>77.0</td>\n",
       "      <td>1</td>\n",
       "      <td>0</td>\n",
       "      <td>2.0</td>\n",
       "      <td>3.0</td>\n",
       "      <td>2</td>\n",
       "      <td>0</td>\n",
       "      <td>2.0</td>\n",
       "      <td>0</td>\n",
       "      <td>2.0</td>\n",
       "      <td>1.0</td>\n",
       "      <td>1</td>\n",
       "      <td>3</td>\n",
       "      <td>1</td>\n",
       "    </tr>\n",
       "    <tr>\n",
       "      <th>3</th>\n",
       "      <td>1</td>\n",
       "      <td>27.0</td>\n",
       "      <td>1.80</td>\n",
       "      <td>87.0</td>\n",
       "      <td>0</td>\n",
       "      <td>0</td>\n",
       "      <td>3.0</td>\n",
       "      <td>3.0</td>\n",
       "      <td>2</td>\n",
       "      <td>0</td>\n",
       "      <td>2.0</td>\n",
       "      <td>0</td>\n",
       "      <td>2.0</td>\n",
       "      <td>0.0</td>\n",
       "      <td>1</td>\n",
       "      <td>4</td>\n",
       "      <td>5</td>\n",
       "    </tr>\n",
       "    <tr>\n",
       "      <th>4</th>\n",
       "      <td>1</td>\n",
       "      <td>22.0</td>\n",
       "      <td>1.78</td>\n",
       "      <td>89.8</td>\n",
       "      <td>0</td>\n",
       "      <td>0</td>\n",
       "      <td>2.0</td>\n",
       "      <td>1.0</td>\n",
       "      <td>2</td>\n",
       "      <td>0</td>\n",
       "      <td>2.0</td>\n",
       "      <td>0</td>\n",
       "      <td>0.0</td>\n",
       "      <td>0.0</td>\n",
       "      <td>2</td>\n",
       "      <td>3</td>\n",
       "      <td>6</td>\n",
       "    </tr>\n",
       "  </tbody>\n",
       "</table>\n",
       "</div>"
      ],
      "text/plain": [
       "   Gender   Age  Height  Weight  FHO  FAVC  FCVC  NCP  CAEC  SMOKE  CH2O  SCC  \\\n",
       "0       0  21.0    1.62    64.0    1     0   2.0  3.0     2      0   2.0    0   \n",
       "1       0  21.0    1.52    56.0    1     0   3.0  3.0     2      1   3.0    1   \n",
       "2       1  23.0    1.80    77.0    1     0   2.0  3.0     2      0   2.0    0   \n",
       "3       1  27.0    1.80    87.0    0     0   3.0  3.0     2      0   2.0    0   \n",
       "4       1  22.0    1.78    89.8    0     0   2.0  1.0     2      0   2.0    0   \n",
       "\n",
       "   FAF  TUE  CALC  MTRANS  Class  \n",
       "0  0.0  1.0     3       3      1  \n",
       "1  3.0  0.0     2       3      1  \n",
       "2  2.0  1.0     1       3      1  \n",
       "3  2.0  0.0     1       4      5  \n",
       "4  0.0  0.0     2       3      6  "
      ]
     },
     "execution_count": 9,
     "metadata": {},
     "output_type": "execute_result"
    }
   ],
   "source": [
    "df.head()"
   ]
  },
  {
   "cell_type": "code",
   "execution_count": 10,
   "id": "6d833695",
   "metadata": {
    "execution": {
     "iopub.execute_input": "2024-04-04T12:02:28.165328Z",
     "iopub.status.busy": "2024-04-04T12:02:28.164865Z",
     "iopub.status.idle": "2024-04-04T12:02:28.181471Z",
     "shell.execute_reply": "2024-04-04T12:02:28.180330Z"
    },
    "papermill": {
     "duration": 0.030728,
     "end_time": "2024-04-04T12:02:28.184284",
     "exception": false,
     "start_time": "2024-04-04T12:02:28.153556",
     "status": "completed"
    },
    "tags": []
   },
   "outputs": [],
   "source": [
    "X = df.drop('Class', axis = 1)\n",
    "y = df[\"Class\"]\n",
    "\n",
    "# Split data into training and testing sets\n",
    "X_train, X_test, y_train, y_test = train_test_split(X, y, test_size=0.2, random_state=42)"
   ]
  },
  {
   "cell_type": "code",
   "execution_count": 11,
   "id": "5344ef4d",
   "metadata": {
    "execution": {
     "iopub.execute_input": "2024-04-04T12:02:28.208357Z",
     "iopub.status.busy": "2024-04-04T12:02:28.207883Z",
     "iopub.status.idle": "2024-04-04T12:02:28.223499Z",
     "shell.execute_reply": "2024-04-04T12:02:28.222424Z"
    },
    "papermill": {
     "duration": 0.030189,
     "end_time": "2024-04-04T12:02:28.226467",
     "exception": false,
     "start_time": "2024-04-04T12:02:28.196278",
     "status": "completed"
    },
    "tags": []
   },
   "outputs": [],
   "source": [
    "# Normalize features using StandardScaler\n",
    "scaler = StandardScaler()\n",
    "X_train_normalized = scaler.fit_transform(X_train)\n",
    "X_test_normalized = scaler.transform(X_test)"
   ]
  },
  {
   "cell_type": "markdown",
   "id": "ae0922f0",
   "metadata": {
    "papermill": {
     "duration": 0.00909,
     "end_time": "2024-04-04T12:02:28.245026",
     "exception": false,
     "start_time": "2024-04-04T12:02:28.235936",
     "status": "completed"
    },
    "tags": []
   },
   "source": [
    "## **Logistic Regression**"
   ]
  },
  {
   "cell_type": "code",
   "execution_count": 12,
   "id": "50fe1b27",
   "metadata": {
    "execution": {
     "iopub.execute_input": "2024-04-04T12:02:28.266358Z",
     "iopub.status.busy": "2024-04-04T12:02:28.265283Z",
     "iopub.status.idle": "2024-04-04T12:02:28.366685Z",
     "shell.execute_reply": "2024-04-04T12:02:28.365826Z"
    },
    "papermill": {
     "duration": 0.115279,
     "end_time": "2024-04-04T12:02:28.369727",
     "exception": false,
     "start_time": "2024-04-04T12:02:28.254448",
     "status": "completed"
    },
    "tags": []
   },
   "outputs": [
    {
     "name": "stdout",
     "output_type": "stream",
     "text": [
      "              precision    recall  f1-score   support\n",
      "\n",
      "           0       0.74      0.93      0.83        56\n",
      "           1       0.53      0.42      0.47        62\n",
      "           2       0.58      0.60      0.59        78\n",
      "           3       0.82      0.84      0.83        58\n",
      "           4       0.90      1.00      0.95        63\n",
      "           5       0.54      0.38      0.44        56\n",
      "           6       0.35      0.38      0.37        50\n",
      "\n",
      "    accuracy                           0.65       423\n",
      "   macro avg       0.64      0.65      0.64       423\n",
      "weighted avg       0.64      0.65      0.64       423\n",
      "\n"
     ]
    }
   ],
   "source": [
    "# training model\n",
    "lr_model = LogisticRegression()\n",
    "lr_model.fit(X_train, y_train)\n",
    "\n",
    "# making classifications\n",
    "lr_y_pred = lr_model.predict(X_test)\n",
    "\n",
    "# checking score\n",
    "LR = accuracy_score(y_test, lr_y_pred)\n",
    "\n",
    "# printing Classification Report\n",
    "print(classification_report(y_test, lr_y_pred))"
   ]
  },
  {
   "cell_type": "markdown",
   "id": "12f18987",
   "metadata": {
    "papermill": {
     "duration": 0.009266,
     "end_time": "2024-04-04T12:02:28.388621",
     "exception": false,
     "start_time": "2024-04-04T12:02:28.379355",
     "status": "completed"
    },
    "tags": []
   },
   "source": [
    "- **Logistic Regression with Hyperparametric Tuning**"
   ]
  },
  {
   "cell_type": "code",
   "execution_count": 13,
   "id": "b4764c1c",
   "metadata": {
    "execution": {
     "iopub.execute_input": "2024-04-04T12:02:28.411314Z",
     "iopub.status.busy": "2024-04-04T12:02:28.410875Z",
     "iopub.status.idle": "2024-04-04T12:04:47.004110Z",
     "shell.execute_reply": "2024-04-04T12:04:47.002649Z"
    },
    "papermill": {
     "duration": 138.61791,
     "end_time": "2024-04-04T12:04:47.017029",
     "exception": false,
     "start_time": "2024-04-04T12:02:28.399119",
     "status": "completed"
    },
    "tags": []
   },
   "outputs": [
    {
     "name": "stdout",
     "output_type": "stream",
     "text": [
      "Fitting 5 folds for each of 72 candidates, totalling 360 fits\n",
      "Best Parameters: {'C': 10, 'max_iter': 100, 'penalty': 'l1', 'solver': 'liblinear'}\n",
      "Best Score: 0.7725212016926237\n",
      "              precision    recall  f1-score   support\n",
      "\n",
      "           0       0.97      1.00      0.98        56\n",
      "           1       0.83      0.47      0.60        62\n",
      "           2       0.69      0.71      0.70        78\n",
      "           3       0.84      0.98      0.90        58\n",
      "           4       1.00      1.00      1.00        63\n",
      "           5       0.61      0.66      0.63        56\n",
      "           6       0.50      0.58      0.54        50\n",
      "\n",
      "    accuracy                           0.77       423\n",
      "   macro avg       0.78      0.77      0.76       423\n",
      "weighted avg       0.78      0.77      0.77       423\n",
      "\n"
     ]
    }
   ],
   "source": [
    "from sklearn.model_selection import GridSearchCV\n",
    "from sklearn.linear_model import LogisticRegression\n",
    "\n",
    "# Define the parameter grid\n",
    "param_grid = {\n",
    "    'penalty': ['l1', 'l2'],  # Regularization penalty\n",
    "    'C': [0.001, 0.01, 0.1, 1, 10, 100],  # Inverse of regularization strength\n",
    "    'solver': ['liblinear', 'saga'],  # Solver algorithm\n",
    "    'max_iter': [100, 200, 300]  # Maximum number of iterations\n",
    "}\n",
    "\n",
    "# Create an instance of the Logistic Regression model\n",
    "lr_model = LogisticRegression()\n",
    "\n",
    "# Create Grid Search CV instance\n",
    "grid_search = GridSearchCV(estimator=lr_model, param_grid=param_grid, cv = 5, scoring='accuracy', verbose=1)\n",
    "\n",
    "# Fit the Grid Search to the data\n",
    "grid_search.fit(X_train, y_train)\n",
    "\n",
    "# Get the best parameters and best score\n",
    "best_params = grid_search.best_params_\n",
    "best_score = grid_search.best_score_\n",
    "\n",
    "# Print the best parameters and best score\n",
    "print(\"Best Parameters:\", best_params)\n",
    "print(\"Best Score:\", best_score)\n",
    "\n",
    "# Use the best model for prediction\n",
    "best_lr_model = grid_search.best_estimator_\n",
    "lr_y_pred = best_lr_model.predict(X_test)\n",
    "\n",
    "# Check the accuracy\n",
    "LR = accuracy_score(y_test, lr_y_pred)\n",
    "\n",
    "# Print Classification Report\n",
    "print(classification_report(y_test, lr_y_pred))"
   ]
  },
  {
   "cell_type": "markdown",
   "id": "20cf5ccb",
   "metadata": {
    "papermill": {
     "duration": 0.009393,
     "end_time": "2024-04-04T12:04:47.036393",
     "exception": false,
     "start_time": "2024-04-04T12:04:47.027000",
     "status": "completed"
    },
    "tags": []
   },
   "source": [
    "## **Support Vector Machine**"
   ]
  },
  {
   "cell_type": "code",
   "execution_count": 14,
   "id": "8cc6ff55",
   "metadata": {
    "execution": {
     "iopub.execute_input": "2024-04-04T12:04:47.058931Z",
     "iopub.status.busy": "2024-04-04T12:04:47.058468Z",
     "iopub.status.idle": "2024-04-04T12:04:47.203558Z",
     "shell.execute_reply": "2024-04-04T12:04:47.202194Z"
    },
    "papermill": {
     "duration": 0.159997,
     "end_time": "2024-04-04T12:04:47.206619",
     "exception": false,
     "start_time": "2024-04-04T12:04:47.046622",
     "status": "completed"
    },
    "tags": []
   },
   "outputs": [
    {
     "name": "stdout",
     "output_type": "stream",
     "text": [
      "              precision    recall  f1-score   support\n",
      "\n",
      "           0       0.71      0.88      0.78        56\n",
      "           1       0.48      0.34      0.40        62\n",
      "           2       0.65      0.33      0.44        78\n",
      "           3       0.77      0.41      0.54        58\n",
      "           4       0.56      1.00      0.72        63\n",
      "           5       0.47      0.48      0.47        56\n",
      "           6       0.43      0.58      0.49        50\n",
      "\n",
      "    accuracy                           0.57       423\n",
      "   macro avg       0.58      0.57      0.55       423\n",
      "weighted avg       0.59      0.57      0.54       423\n",
      "\n"
     ]
    }
   ],
   "source": [
    "# creating an instance of SVM class\n",
    "svm_model = SVC()\n",
    "svm_model.fit(X_train, y_train)\n",
    "\n",
    "# maing predictions\n",
    "svm_y_pred = svm_model.predict(X_test)\n",
    "\n",
    "# checking score\n",
    "SVM = accuracy_score(y_test, svm_y_pred)\n",
    "\n",
    "# printing Classification Report\n",
    "print(classification_report(y_test, svm_y_pred))"
   ]
  },
  {
   "cell_type": "code",
   "execution_count": 15,
   "id": "a4d1e89b",
   "metadata": {
    "execution": {
     "iopub.execute_input": "2024-04-04T12:04:47.228827Z",
     "iopub.status.busy": "2024-04-04T12:04:47.228384Z",
     "iopub.status.idle": "2024-04-04T12:06:28.855238Z",
     "shell.execute_reply": "2024-04-04T12:06:28.854098Z"
    },
    "papermill": {
     "duration": 101.651265,
     "end_time": "2024-04-04T12:06:28.868167",
     "exception": false,
     "start_time": "2024-04-04T12:04:47.216902",
     "status": "completed"
    },
    "tags": []
   },
   "outputs": [
    {
     "name": "stdout",
     "output_type": "stream",
     "text": [
      "Fitting 5 folds for each of 96 candidates, totalling 480 fits\n",
      "Best Parameters: {'C': 10, 'coef0': 0.0, 'degree': 2, 'gamma': 'scale', 'kernel': 'linear'}\n",
      "Best Score: 0.9431338120906713\n",
      "              precision    recall  f1-score   support\n",
      "\n",
      "           0       0.97      1.00      0.98        56\n",
      "           1       0.97      0.90      0.93        62\n",
      "           2       0.99      0.96      0.97        78\n",
      "           3       0.95      1.00      0.97        58\n",
      "           4       1.00      1.00      1.00        63\n",
      "           5       0.91      0.91      0.91        56\n",
      "           6       0.94      0.96      0.95        50\n",
      "\n",
      "    accuracy                           0.96       423\n",
      "   macro avg       0.96      0.96      0.96       423\n",
      "weighted avg       0.96      0.96      0.96       423\n",
      "\n"
     ]
    }
   ],
   "source": [
    "# Define the parameter grid\n",
    "param_grid = {\n",
    "    'C': [0.1, 1, 10],  # Regularization parameter\n",
    "    'gamma': ['scale', 'auto', 0.1, 0.01],  # Kernel coefficient\n",
    "    'kernel': ['linear', 'rbf'],  # Kernel type\n",
    "    'degree': [2, 3],  # Degree of the polynomial kernel\n",
    "    'coef0': [0.0, 0.1]  # Independent term in the polynomial kernel equation\n",
    "}\n",
    "\n",
    "# Create an instance of the SVC model\n",
    "svm_model = SVC()\n",
    "\n",
    "# Create Grid Search CV instance\n",
    "grid_search = GridSearchCV(estimator=svm_model, param_grid=param_grid, cv=5, scoring='accuracy', verbose=1)\n",
    "\n",
    "# Fit the Grid Search to the data\n",
    "grid_search.fit(X_train, y_train)\n",
    "\n",
    "# Get the best parameters and best score\n",
    "best_params = grid_search.best_params_\n",
    "best_score = grid_search.best_score_\n",
    "\n",
    "# Print the best parameters and best score\n",
    "print(\"Best Parameters:\", best_params)\n",
    "print(\"Best Score:\", best_score)\n",
    "\n",
    "# Use the best model for prediction\n",
    "best_svm_model = grid_search.best_estimator_\n",
    "svm_y_pred = best_svm_model.predict(X_test)\n",
    "\n",
    "# Check the accuracy\n",
    "SVM = accuracy_score(y_test, svm_y_pred)\n",
    "\n",
    "# Print Classification Report\n",
    "print(classification_report(y_test, svm_y_pred))"
   ]
  },
  {
   "cell_type": "markdown",
   "id": "c2451359",
   "metadata": {
    "papermill": {
     "duration": 0.009697,
     "end_time": "2024-04-04T12:06:28.887755",
     "exception": false,
     "start_time": "2024-04-04T12:06:28.878058",
     "status": "completed"
    },
    "tags": []
   },
   "source": [
    "## **K-Nearest Neighbours**"
   ]
  },
  {
   "cell_type": "code",
   "execution_count": 16,
   "id": "f43aa24f",
   "metadata": {
    "execution": {
     "iopub.execute_input": "2024-04-04T12:06:28.909743Z",
     "iopub.status.busy": "2024-04-04T12:06:28.909273Z",
     "iopub.status.idle": "2024-04-04T12:06:29.432679Z",
     "shell.execute_reply": "2024-04-04T12:06:29.431476Z"
    },
    "papermill": {
     "duration": 0.538262,
     "end_time": "2024-04-04T12:06:29.436129",
     "exception": false,
     "start_time": "2024-04-04T12:06:28.897867",
     "status": "completed"
    },
    "tags": []
   },
   "outputs": [
    {
     "name": "stdout",
     "output_type": "stream",
     "text": [
      "Best Accuracy: 0.88180 for K = 5\n"
     ]
    }
   ],
   "source": [
    "# building a function to test best neighbour \n",
    "def KNN(k):\n",
    "    # building a KNN model (default k=5)\n",
    "    knn_model = KNeighborsClassifier(n_neighbors=k)\n",
    "\n",
    "    # fitting the model to the training data\n",
    "    knn_model.fit(X_train, y_train)\n",
    "\n",
    "    # making predictions on the test set\n",
    "    y_pred_knn = knn_model.predict(X_test)\n",
    "\n",
    "    # evaluating the model's accuracy\n",
    "    accuracy_knn = accuracy_score(y_test, y_pred_knn)\n",
    "    return accuracy_knn\n",
    "\n",
    "# finding the best n value\n",
    "k_values = [5, 6, 7, 8, 9, 10, 11, 12, 13, 14, 15]\n",
    "\n",
    "best_accuracy = 0\n",
    "best_k = None\n",
    "\n",
    "for k in k_values:\n",
    "    accuracy = KNN(k)\n",
    "    if accuracy > best_accuracy:\n",
    "        best_accuracy = accuracy\n",
    "        best_k = k\n",
    "\n",
    "print(\"Best Accuracy: {0:0.5f} for K = {1}\".format(best_accuracy, best_k))\n",
    "\n",
    "KNN = best_accuracy"
   ]
  },
  {
   "cell_type": "markdown",
   "id": "ec130e97",
   "metadata": {
    "papermill": {
     "duration": 0.010069,
     "end_time": "2024-04-04T12:06:29.460318",
     "exception": false,
     "start_time": "2024-04-04T12:06:29.450249",
     "status": "completed"
    },
    "tags": []
   },
   "source": [
    "- **KNN with Hyperparameter Tuning**"
   ]
  },
  {
   "cell_type": "code",
   "execution_count": 17,
   "id": "16a24164",
   "metadata": {
    "execution": {
     "iopub.execute_input": "2024-04-04T12:06:29.482880Z",
     "iopub.status.busy": "2024-04-04T12:06:29.482412Z",
     "iopub.status.idle": "2024-04-04T12:06:44.959770Z",
     "shell.execute_reply": "2024-04-04T12:06:44.958431Z"
    },
    "papermill": {
     "duration": 15.492233,
     "end_time": "2024-04-04T12:06:44.962883",
     "exception": false,
     "start_time": "2024-04-04T12:06:29.470650",
     "status": "completed"
    },
    "tags": []
   },
   "outputs": [
    {
     "name": "stdout",
     "output_type": "stream",
     "text": [
      "Fitting 5 folds for each of 120 candidates, totalling 600 fits\n",
      "Best Parameters: {'algorithm': 'auto', 'leaf_size': 10, 'n_neighbors': 4, 'p': 1, 'weights': 'distance'}\n",
      "Best Score: 0.8779590188400963\n",
      "              precision    recall  f1-score   support\n",
      "\n",
      "           0       0.83      0.95      0.88        56\n",
      "           1       0.81      0.63      0.71        62\n",
      "           2       0.89      0.91      0.90        78\n",
      "           3       0.97      0.98      0.97        58\n",
      "           4       0.98      1.00      0.99        63\n",
      "           5       0.87      0.80      0.83        56\n",
      "           6       0.73      0.82      0.77        50\n",
      "\n",
      "    accuracy                           0.87       423\n",
      "   macro avg       0.87      0.87      0.87       423\n",
      "weighted avg       0.87      0.87      0.87       423\n",
      "\n"
     ]
    }
   ],
   "source": [
    "def knn_hyperparameter_tuning(X_train, X_test, y_train, y_test):\n",
    "    # Define the parameter grid\n",
    "    param_grid = {\n",
    "        'n_neighbors': [3, 4, 5, 6, 7],  # Number of neighbors\n",
    "        'weights': ['uniform', 'distance'],  # Weight function used in prediction\n",
    "        'algorithm': ['auto', 'ball_tree'],  # Algorithm used to compute the nearest neighbors\n",
    "        'p': [1, 2],  # Power parameter for the Minkowski metric\n",
    "        'leaf_size': [10, 20, 30],  # Leaf size passed to BallTree or KDTree\n",
    "    }\n",
    "\n",
    "    # Create an instance of the KNN model\n",
    "    knn_model = KNeighborsClassifier()\n",
    "\n",
    "    # Create Grid Search CV instance\n",
    "    grid_search = GridSearchCV(estimator=knn_model, param_grid=param_grid, cv=5, scoring='accuracy', verbose=1)\n",
    "\n",
    "    # Fit the Grid Search to the data\n",
    "    grid_search.fit(X_train, y_train)\n",
    "\n",
    "    # Get the best parameters and best score\n",
    "    best_params = grid_search.best_params_\n",
    "    best_score = grid_search.best_score_\n",
    "\n",
    "    # Print the best parameters and best score\n",
    "    print(\"Best Parameters:\", best_params)\n",
    "    print(\"Best Score:\", best_score)\n",
    "\n",
    "    # Use the best model for prediction\n",
    "    best_knn_model = grid_search.best_estimator_\n",
    "    knn_y_pred = best_knn_model.predict(X_test)\n",
    "\n",
    "    # Check the accuracy\n",
    "    knn_accuracy = accuracy_score(y_test, knn_y_pred)\n",
    "\n",
    "    # Print Classification Report\n",
    "    print(classification_report(y_test, knn_y_pred))\n",
    "\n",
    "    return best_knn_model, knn_y_pred, knn_accuracy\n",
    "\n",
    "# Example usage:\n",
    "# Assuming X_train, X_test, y_train, y_test are already defined\n",
    "best_knn_model, knn_y_pred, knn_accuracy = knn_hyperparameter_tuning(X_train_normalized, X_test_normalized, y_train, y_test)"
   ]
  },
  {
   "cell_type": "markdown",
   "id": "b50f562c",
   "metadata": {
    "papermill": {
     "duration": 0.009934,
     "end_time": "2024-04-04T12:06:44.983225",
     "exception": false,
     "start_time": "2024-04-04T12:06:44.973291",
     "status": "completed"
    },
    "tags": []
   },
   "source": [
    "## **Decision Tree Classifier**"
   ]
  },
  {
   "cell_type": "code",
   "execution_count": 18,
   "id": "d7257503",
   "metadata": {
    "execution": {
     "iopub.execute_input": "2024-04-04T12:06:45.006101Z",
     "iopub.status.busy": "2024-04-04T12:06:45.005338Z",
     "iopub.status.idle": "2024-04-04T12:06:45.037512Z",
     "shell.execute_reply": "2024-04-04T12:06:45.035982Z"
    },
    "papermill": {
     "duration": 0.046745,
     "end_time": "2024-04-04T12:06:45.040150",
     "exception": false,
     "start_time": "2024-04-04T12:06:44.993405",
     "status": "completed"
    },
    "tags": []
   },
   "outputs": [
    {
     "name": "stdout",
     "output_type": "stream",
     "text": [
      "              precision    recall  f1-score   support\n",
      "\n",
      "           0       0.93      0.96      0.95        56\n",
      "           1       0.88      0.90      0.89        62\n",
      "           2       0.96      0.91      0.93        78\n",
      "           3       0.93      0.95      0.94        58\n",
      "           4       1.00      1.00      1.00        63\n",
      "           5       0.93      0.89      0.91        56\n",
      "           6       0.94      0.96      0.95        50\n",
      "\n",
      "    accuracy                           0.94       423\n",
      "   macro avg       0.94      0.94      0.94       423\n",
      "weighted avg       0.94      0.94      0.94       423\n",
      "\n"
     ]
    }
   ],
   "source": [
    "# Creating an instance of Decision Tree Classifier\n",
    "dt_model = DecisionTreeClassifier(max_depth = 10)\n",
    "\n",
    "# Fitting the model to the training data\n",
    "dt_model.fit(X_train, y_train)\n",
    "\n",
    "# Making predictions\n",
    "dt_y_pred = dt_model.predict(X_test)\n",
    "\n",
    "# Checking accuracy\n",
    "DTC = accuracy_score(y_test, dt_y_pred)\n",
    "\n",
    "# Printing Classification Report\n",
    "print(classification_report(y_test, dt_y_pred))"
   ]
  },
  {
   "cell_type": "code",
   "execution_count": 19,
   "id": "7bfcda1e",
   "metadata": {
    "execution": {
     "iopub.execute_input": "2024-04-04T12:06:45.063748Z",
     "iopub.status.busy": "2024-04-04T12:06:45.063273Z",
     "iopub.status.idle": "2024-04-04T12:06:45.099606Z",
     "shell.execute_reply": "2024-04-04T12:06:45.098151Z"
    },
    "papermill": {
     "duration": 0.052191,
     "end_time": "2024-04-04T12:06:45.102933",
     "exception": false,
     "start_time": "2024-04-04T12:06:45.050742",
     "status": "completed"
    },
    "tags": []
   },
   "outputs": [
    {
     "name": "stdout",
     "output_type": "stream",
     "text": [
      "              precision    recall  f1-score   support\n",
      "\n",
      "           0       0.93      0.96      0.95        56\n",
      "           1       0.88      0.90      0.89        62\n",
      "           2       0.97      0.92      0.95        78\n",
      "           3       0.95      0.95      0.95        58\n",
      "           4       1.00      1.00      1.00        63\n",
      "           5       0.93      0.91      0.92        56\n",
      "           6       0.94      0.96      0.95        50\n",
      "\n",
      "    accuracy                           0.94       423\n",
      "   macro avg       0.94      0.94      0.94       423\n",
      "weighted avg       0.94      0.94      0.94       423\n",
      "\n"
     ]
    }
   ],
   "source": [
    "# creating model class\n",
    "dt_model = DecisionTreeClassifier(max_depth = 12)\n",
    "\n",
    "# using boosting filter\n",
    "dt_ada_model = AdaBoostClassifier(estimator=dt_model, n_estimators=50, learning_rate=0.75, random_state=42, algorithm = \"SAMME\")\n",
    "\n",
    "# fitting model with training data\n",
    "dt_ada_model.fit(X_train, y_train)\n",
    "\n",
    "# make predictions\n",
    "dt_y_pred = dt_ada_model.predict(X_test)\n",
    "\n",
    "# getting accuracy score\n",
    "DTC_ADA = accuracy_score(y_test, dt_y_pred)\n",
    "\n",
    "# printing accuracy report\n",
    "print(classification_report(y_test, dt_y_pred))"
   ]
  },
  {
   "cell_type": "code",
   "execution_count": null,
   "id": "6287193b",
   "metadata": {
    "papermill": {
     "duration": 0.011183,
     "end_time": "2024-04-04T12:06:45.124669",
     "exception": false,
     "start_time": "2024-04-04T12:06:45.113486",
     "status": "completed"
    },
    "tags": []
   },
   "outputs": [],
   "source": []
  }
 ],
 "metadata": {
  "kaggle": {
   "accelerator": "none",
   "dataSources": [
    {
     "datasetId": 4030196,
     "sourceId": 7009925,
     "sourceType": "datasetVersion"
    }
   ],
   "dockerImageVersionId": 30673,
   "isGpuEnabled": false,
   "isInternetEnabled": true,
   "language": "python",
   "sourceType": "notebook"
  },
  "kernelspec": {
   "display_name": "Python 3",
   "language": "python",
   "name": "python3"
  },
  "language_info": {
   "codemirror_mode": {
    "name": "ipython",
    "version": 3
   },
   "file_extension": ".py",
   "mimetype": "text/x-python",
   "name": "python",
   "nbconvert_exporter": "python",
   "pygments_lexer": "ipython3",
   "version": "3.10.13"
  },
  "papermill": {
   "default_parameters": {},
   "duration": 266.479678,
   "end_time": "2024-04-04T12:06:46.260464",
   "environment_variables": {},
   "exception": null,
   "input_path": "__notebook__.ipynb",
   "output_path": "__notebook__.ipynb",
   "parameters": {},
   "start_time": "2024-04-04T12:02:19.780786",
   "version": "2.5.0"
  }
 },
 "nbformat": 4,
 "nbformat_minor": 5
}
